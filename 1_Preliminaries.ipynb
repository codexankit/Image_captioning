{
  "cells": [
    {
      "cell_type": "markdown",
      "metadata": {
        "id": "r3FMWcIz-vOp"
      },
      "source": [
        "## Project: Image Captioning \n",
        "#####Author: Ankit Kumar Prem\n",
        "\n",
        "---\n",
        "\n",
        "In this notebook, I will load and pre-process data from the [COCO dataset](http://cocodataset.org/#home). I will also design a CNN-RNN model for automatically generating image captions.\n",
        "\n",
        "\n",
        "\n"
      ]
    },
    {
      "cell_type": "markdown",
      "metadata": {
        "id": "nzVCbw5Z-vOs"
      },
      "source": [
        "<a id='step1'></a>\n",
        "## Step 1: Exploring the Data Loader\n",
        "\n",
        "\n",
        "In the code cell below, I have initialized the data loader by using the `get_loader` function in **data_loader.py**.  \n",
        "\n",
        "\n",
        "\n",
        "The `get_loader` function takes as input a number of arguments that can be explored in **data_loader.py**.\n",
        "1. **`transform`** - an [image transform](http://pytorch.org/docs/master/torchvision/transforms.html) specifying how to pre-process the images and convert them to PyTorch tensors before using them as input to the CNN encoder. \n",
        "2. **`mode`** - one of `'train'` (loads the training data in batches) or `'test'` (for the test data). We will say that the data loader is in training or test mode, respectively.  \n",
        "3. **`batch_size`** - determines the batch size.  When training the model, this is number of image-caption pairs used to amend the model weights in each training step.\n",
        "4. **`vocab_threshold`** - the total number of times that a word must appear in the in the training captions before it is used as part of the vocabulary.  Words that have fewer than `vocab_threshold` occurrences in the training captions are considered unknown words. \n",
        "5. **`vocab_from_file`** - a Boolean that decides whether to load the vocabulary from file.  \n",
        "\n"
      ]
    },
    {
      "cell_type": "code",
      "execution_count": null,
      "metadata": {
        "scrolled": false,
        "id": "s_lFDIZF-vOt",
        "outputId": "9f955ade-962e-4915-c801-6be63f2a063c"
      },
      "outputs": [
        {
          "name": "stdout",
          "output_type": "stream",
          "text": [
            "Requirement already satisfied: nltk in /opt/conda/lib/python3.6/site-packages (3.2.5)\n",
            "Requirement already satisfied: six in /opt/conda/lib/python3.6/site-packages (from nltk) (1.11.0)\n",
            "[nltk_data] Downloading package punkt to /root/nltk_data...\n",
            "[nltk_data]   Unzipping tokenizers/punkt.zip.\n",
            "loading annotations into memory...\n",
            "Done (t=1.02s)\n",
            "creating index...\n",
            "index created!\n",
            "[0/414113] Tokenizing captions...\n",
            "[100000/414113] Tokenizing captions...\n",
            "[200000/414113] Tokenizing captions...\n",
            "[300000/414113] Tokenizing captions...\n",
            "[400000/414113] Tokenizing captions...\n",
            "loading annotations into memory...\n",
            "Done (t=0.95s)\n",
            "creating index...\n"
          ]
        },
        {
          "name": "stderr",
          "output_type": "stream",
          "text": [
            "  0%|          | 937/414113 [00:00<01:27, 4708.21it/s]"
          ]
        },
        {
          "name": "stdout",
          "output_type": "stream",
          "text": [
            "index created!\n",
            "Obtaining caption lengths...\n"
          ]
        },
        {
          "name": "stderr",
          "output_type": "stream",
          "text": [
            "100%|██████████| 414113/414113 [01:34<00:00, 4392.10it/s]\n"
          ]
        }
      ],
      "source": [
        "import sys\n",
        "sys.path.append('/opt/cocoapi/PythonAPI')\n",
        "from pycocotools.coco import COCO\n",
        "!pip install nltk\n",
        "import nltk\n",
        "nltk.download('punkt')\n",
        "from data_loader import get_loader\n",
        "from torchvision import transforms\n",
        "\n",
        "# Defining a transform to pre-process the training images.\n",
        "transform_train = transforms.Compose([ \n",
        "    transforms.Resize(256),                          # smaller edge of image resized to 256\n",
        "    transforms.RandomCrop(224),                      # get 224x224 crop from random location\n",
        "    transforms.RandomHorizontalFlip(),               # horizontally flip image with probability=0.5\n",
        "    transforms.ToTensor(),                           # convert the PIL Image to a tensor\n",
        "    transforms.Normalize((0.485, 0.456, 0.406),      # normalize image for pre-trained model\n",
        "                         (0.229, 0.224, 0.225))])\n",
        "\n",
        "# Setting the minimum word count threshold.\n",
        "vocab_threshold = 5\n",
        "\n",
        "# Specifying the batch size.\n",
        "batch_size = 10\n",
        "\n",
        "# Obtain the data loader.\n",
        "data_loader = get_loader(transform=transform_train,\n",
        "                         mode='train',\n",
        "                         batch_size=batch_size,\n",
        "                         vocab_threshold=vocab_threshold,\n",
        "                         vocab_from_file=False)"
      ]
    },
    {
      "cell_type": "markdown",
      "metadata": {
        "id": "NCAsXH1g-vOu"
      },
      "source": [
        "When we ran the code cell above, the data loader was stored in the variable `data_loader`.  \n",
        "\n",
        "We can access the corresponding dataset as `data_loader.dataset`.  This dataset is an instance of the `CoCoDataset` class in **data_loader.py**.  \n",
        "\n",
        "\n",
        "The `__getitem__` method in the `CoCoDataset` class determines how an image-caption pair is pre-processed before being incorporated into a batch.  This is true for all `Dataset` classes in PyTorch.\n",
        "\n",
        "When the data loader is in training mode, this method begins by first obtaining the filename (`path`) of a training image and its corresponding caption (`caption`).\n",
        "\n",
        "#### Image Pre-Processing \n",
        "\n",
        "Image pre-processing is relatively straightforward (from the `__getitem__` method in the `CoCoDataset` class):\n",
        "```python\n",
        "# Convert image to tensor and pre-process using transform\n",
        "image = Image.open(os.path.join(self.img_folder, path)).convert('RGB')\n",
        "image = self.transform(image)\n",
        "```\n",
        "After loading the image in the training folder with name `path`, the image is pre-processed using the same transform (`transform_train`) that was supplied when instantiating the data loader.  \n",
        "\n",
        "#### Caption Pre-Processing \n",
        "\n",
        "The captions also need to be pre-processed and prepped for training. \n",
        "\n",
        "\n",
        "\n",
        "\n",
        "\n"
      ]
    },
    {
      "cell_type": "code",
      "execution_count": null,
      "metadata": {
        "id": "eMa6tdaN-vOv"
      },
      "outputs": [],
      "source": [
        "sample_caption = 'A person doing a trick on a rail while riding a skateboard.'"
      ]
    },
    {
      "cell_type": "markdown",
      "metadata": {
        "id": "j_nVC2IY-vOv"
      },
      "source": [
        "In **`line 1`** of the code snippet, every letter in the caption is converted to lowercase, and the [`nltk.tokenize.word_tokenize`](http://www.nltk.org/) function is used to obtain a list of string-valued tokens. "
      ]
    },
    {
      "cell_type": "code",
      "execution_count": null,
      "metadata": {
        "id": "ZKRbLCwr-vOv",
        "outputId": "43b94038-ff2c-4c72-9073-1938b35535ad"
      },
      "outputs": [
        {
          "name": "stdout",
          "output_type": "stream",
          "text": [
            "['a', 'person', 'doing', 'a', 'trick', 'on', 'a', 'rail', 'while', 'riding', 'a', 'skateboard', '.']\n"
          ]
        }
      ],
      "source": [
        "import nltk\n",
        "\n",
        "sample_tokens = nltk.tokenize.word_tokenize(str(sample_caption).lower())\n",
        "print(sample_tokens)"
      ]
    },
    {
      "cell_type": "markdown",
      "metadata": {
        "id": "atu_J8oC-vOw"
      },
      "source": [
        "In **`line 2`** and **`line 3`** we initialize an empty list and append an integer to mark the start of a caption.  \n",
        "\n",
        "This special start word (`\"<start>\"`) is decided when instantiating the data loader and is passed as a parameter (`start_word`).  \n",
        "\n",
        "The integer `0` is always used to mark the start of a caption."
      ]
    },
    {
      "cell_type": "code",
      "execution_count": null,
      "metadata": {
        "id": "oGsDIToA-vOw",
        "outputId": "33d7ee0b-fd90-45c6-bcf6-9af263cfed9c"
      },
      "outputs": [
        {
          "name": "stdout",
          "output_type": "stream",
          "text": [
            "Special start word: <start>\n",
            "[0]\n"
          ]
        }
      ],
      "source": [
        "sample_caption = []\n",
        "\n",
        "start_word = data_loader.dataset.vocab.start_word\n",
        "print('Special start word:', start_word)\n",
        "sample_caption.append(data_loader.dataset.vocab(start_word))\n",
        "print(sample_caption)"
      ]
    },
    {
      "cell_type": "markdown",
      "metadata": {
        "id": "iSdI-0Ci-vOw"
      },
      "source": [
        "In **`line 4`**, we continue the list by adding integers that correspond to each of the tokens in the caption."
      ]
    },
    {
      "cell_type": "code",
      "execution_count": null,
      "metadata": {
        "id": "iSnwI5r2-vOw",
        "outputId": "ffac27b3-e5fd-4d53-8fa4-20215c765008"
      },
      "outputs": [
        {
          "name": "stdout",
          "output_type": "stream",
          "text": [
            "[0, 3, 98, 754, 3, 396, 39, 3, 1009, 207, 139, 3, 753, 18]\n"
          ]
        }
      ],
      "source": [
        "sample_caption.extend([data_loader.dataset.vocab(token) for token in sample_tokens])\n",
        "print(sample_caption)"
      ]
    },
    {
      "cell_type": "markdown",
      "metadata": {
        "id": "T4bfxRPP-vOx"
      },
      "source": [
        "In **`line 5`**, we append a final integer to mark the end of the caption.  \n",
        "\n",
        "Identical to the case of the special start word (above), the special end word (`\"<end>\"`) is decided when instantiating the data loader and is passed as a parameter (`end_word`).  \n",
        "\n",
        "The integer `1` is always used to  mark the end of a caption."
      ]
    },
    {
      "cell_type": "code",
      "execution_count": null,
      "metadata": {
        "id": "sxpalieI-vOx",
        "outputId": "e4cc868d-242b-40e5-fa08-30a27cb0ade1"
      },
      "outputs": [
        {
          "name": "stdout",
          "output_type": "stream",
          "text": [
            "Special end word: <end>\n",
            "[0, 3, 98, 754, 3, 396, 39, 3, 1009, 207, 139, 3, 753, 18, 1]\n"
          ]
        }
      ],
      "source": [
        "end_word = data_loader.dataset.vocab.end_word\n",
        "print('Special end word:', end_word)\n",
        "\n",
        "sample_caption.append(data_loader.dataset.vocab(end_word))\n",
        "print(sample_caption)"
      ]
    },
    {
      "cell_type": "markdown",
      "metadata": {
        "id": "vZTWr3V0-vOx"
      },
      "source": [
        "Finally, in **`line 6`**, we convert the list of integers to a PyTorch tensor and cast it to [long type](http://pytorch.org/docs/master/tensors.html#torch.Tensor.long).  "
      ]
    },
    {
      "cell_type": "code",
      "execution_count": null,
      "metadata": {
        "id": "6WWJ2unJ-vOx",
        "outputId": "f426c86b-c826-4f4d-fdb2-5d9b33d90528"
      },
      "outputs": [
        {
          "name": "stdout",
          "output_type": "stream",
          "text": [
            "tensor([    0,     3,    98,   754,     3,   396,    39,     3,  1009,\n",
            "          207,   139,     3,   753,    18,     1])\n"
          ]
        }
      ],
      "source": [
        "import torch\n",
        "\n",
        "sample_caption = torch.Tensor(sample_caption).long()\n",
        "print(sample_caption)"
      ]
    },
    {
      "cell_type": "markdown",
      "metadata": {
        "id": "htszoFy6-vOx"
      },
      "source": [
        "And that's it!  Any caption is converted to a list of tokens, with _special_ start and end tokens marking the beginning and end of the sentence:\n",
        "```\n",
        "[<start>, 'a', 'person', 'doing', 'a', 'trick', 'while', 'riding', 'a', 'skateboard', '.', <end>]\n",
        "```\n",
        "This list of tokens is then turned into a list of integers, where every distinct word in the vocabulary has an associated integer value:\n",
        "```\n",
        "[0, 3, 98, 754, 3, 396, 207, 139, 3, 753, 18, 1]\n",
        "```\n",
        "Finally, this list is converted to a PyTorch tensor.  All of the captions in the COCO dataset are pre-processed using this same procedure from **`lines 1-6`** . \n",
        "\n",
        "As we saw, in order to convert a token to its corresponding integer, we call `data_loader.dataset.vocab` as a function.  \n",
        "\n",
        "```python\n",
        "def __call__(self, word):\n",
        "    if not word in self.word2idx:\n",
        "        return self.word2idx[self.unk_word]\n",
        "    return self.word2idx[word]\n",
        "```\n",
        "\n",
        "The `word2idx` instance variable is a Python [dictionary](https://docs.python.org/3/tutorial/datastructures.html#dictionaries) that is indexed by string-valued keys (mostly tokens obtained from training captions).  For each key, the corresponding value is the integer that the token is mapped to in the pre-processing step.\n"
      ]
    },
    {
      "cell_type": "code",
      "execution_count": null,
      "metadata": {
        "id": "_9e3URHF-vOy",
        "outputId": "b16ccf2f-7b9d-4bd7-ae72-74726de4afff"
      },
      "outputs": [
        {
          "data": {
            "text/plain": [
              "{'<start>': 0,\n",
              " '<end>': 1,\n",
              " '<unk>': 2,\n",
              " 'a': 3,\n",
              " 'very': 4,\n",
              " 'clean': 5,\n",
              " 'and': 6,\n",
              " 'well': 7,\n",
              " 'decorated': 8,\n",
              " 'empty': 9}"
            ]
          },
          "execution_count": 9,
          "metadata": {},
          "output_type": "execute_result"
        }
      ],
      "source": [
        "# Previewing the word2idx dictionary.\n",
        "dict(list(data_loader.dataset.vocab.word2idx.items())[:10])"
      ]
    },
    {
      "cell_type": "markdown",
      "metadata": {
        "id": "p-Hmqt7f-vOy"
      },
      "source": [
        "We also print the total number of keys."
      ]
    },
    {
      "cell_type": "code",
      "execution_count": null,
      "metadata": {
        "id": "XcrByogc-vOy",
        "outputId": "713e63a0-1175-41e0-8717-3c0cea1ac6c8"
      },
      "outputs": [
        {
          "name": "stdout",
          "output_type": "stream",
          "text": [
            "Total number of tokens in vocabulary: 8855\n"
          ]
        }
      ],
      "source": [
        "# Printing the total number of keys in the word2idx dictionary.\n",
        "print('Total number of tokens in vocabulary:', len(data_loader.dataset.vocab))"
      ]
    },
    {
      "cell_type": "markdown",
      "metadata": {
        "id": "U-T6JMuH-vOy"
      },
      "source": [
        "As we can see that the code in **vocabulary.py**, the `word2idx` dictionary is created by looping over the captions in the training dataset.  If a token appears no less than `vocab_threshold` times in the training set, then it is added as a key to the dictionary and assigned a corresponding unique integer.  We will have the option later to amend the `vocab_threshold` argument when instantiating your data loader. We can Note that in general, **smaller** values for `vocab_threshold` yield a **larger** number of tokens in the vocabulary. "
      ]
    },
    {
      "cell_type": "code",
      "execution_count": null,
      "metadata": {
        "id": "hXv1I5wY-vOy",
        "outputId": "aa4d0851-5798-4836-db38-1502451bee79"
      },
      "outputs": [
        {
          "name": "stdout",
          "output_type": "stream",
          "text": [
            "loading annotations into memory...\n",
            "Done (t=0.90s)\n",
            "creating index...\n",
            "index created!\n",
            "[0/414113] Tokenizing captions...\n",
            "[100000/414113] Tokenizing captions...\n",
            "[200000/414113] Tokenizing captions...\n",
            "[300000/414113] Tokenizing captions...\n",
            "[400000/414113] Tokenizing captions...\n",
            "loading annotations into memory...\n"
          ]
        },
        {
          "name": "stderr",
          "output_type": "stream",
          "text": [
            "  0%|          | 808/414113 [00:00<01:47, 3851.77it/s]"
          ]
        },
        {
          "name": "stdout",
          "output_type": "stream",
          "text": [
            "Done (t=0.91s)\n",
            "creating index...\n",
            "index created!\n",
            "Obtaining caption lengths...\n"
          ]
        },
        {
          "name": "stderr",
          "output_type": "stream",
          "text": [
            "100%|██████████| 414113/414113 [01:36<00:00, 4293.07it/s]\n"
          ]
        }
      ],
      "source": [
        "# Modifying the minimum word count threshold.\n",
        "vocab_threshold = 4\n",
        "\n",
        "# Obtaining the data loader.\n",
        "data_loader = get_loader(transform=transform_train,\n",
        "                         mode='train',\n",
        "                         batch_size=batch_size,\n",
        "                         vocab_threshold=vocab_threshold,\n",
        "                         vocab_from_file=False)"
      ]
    },
    {
      "cell_type": "code",
      "execution_count": null,
      "metadata": {
        "id": "B73V3q72-vOy",
        "outputId": "cb129af6-1ef9-4094-f21c-f4c20ee4e15b"
      },
      "outputs": [
        {
          "name": "stdout",
          "output_type": "stream",
          "text": [
            "Total number of tokens in vocabulary: 9955\n"
          ]
        }
      ],
      "source": [
        "# Printing the total number of keys in the word2idx dictionary.\n",
        "print('Total number of tokens in vocabulary:', len(data_loader.dataset.vocab))"
      ]
    },
    {
      "cell_type": "markdown",
      "metadata": {
        "id": "4AaNIx3X-vOz"
      },
      "source": [
        "There is one more special token, corresponding to unknown words (`\"<unk>\"`).  All tokens that don't appear anywhere in the `word2idx` dictionary are considered unknown words.  In the pre-processing step, any unknown tokens are mapped to the integer `2`."
      ]
    },
    {
      "cell_type": "code",
      "execution_count": null,
      "metadata": {
        "id": "db2fcQkA-vOz",
        "outputId": "712e470d-ff39-40eb-c4d5-84db58ff12e8"
      },
      "outputs": [
        {
          "name": "stdout",
          "output_type": "stream",
          "text": [
            "Special unknown word: <unk>\n",
            "All unknown words are mapped to this integer: 2\n"
          ]
        }
      ],
      "source": [
        "unk_word = data_loader.dataset.vocab.unk_word\n",
        "print('Special unknown word:', unk_word)\n",
        "\n",
        "print('All unknown words are mapped to this integer:', data_loader.dataset.vocab(unk_word))"
      ]
    },
    {
      "cell_type": "markdown",
      "metadata": {
        "id": "QmHPYsEj-vOz"
      },
      "source": [
        "pre-processing the provided nonsense words that never appear in the training captions. "
      ]
    },
    {
      "cell_type": "code",
      "execution_count": null,
      "metadata": {
        "id": "K7T6rUs8-vOz",
        "outputId": "bb01fbdd-69c2-4656-e439-ed5c4495c412"
      },
      "outputs": [
        {
          "name": "stdout",
          "output_type": "stream",
          "text": [
            "2\n",
            "2\n"
          ]
        }
      ],
      "source": [
        "print(data_loader.dataset.vocab('jfkafejw'))\n",
        "print(data_loader.dataset.vocab('ieowoqjf'))"
      ]
    },
    {
      "cell_type": "code",
      "execution_count": null,
      "metadata": {
        "id": "w8Kz4NJq-vOz",
        "outputId": "7de5205f-9357-4635-8fca-09f422e1ab81"
      },
      "outputs": [
        {
          "name": "stdout",
          "output_type": "stream",
          "text": [
            "Vocabulary successfully loaded from vocab.pkl file!\n",
            "loading annotations into memory...\n"
          ]
        },
        {
          "name": "stderr",
          "output_type": "stream",
          "text": [
            "100%|██████████| 414113/414113 [01:37<00:00, 4265.27it/s]\n"
          ]
        },
        {
          "name": "stdout",
          "output_type": "stream",
          "text": [
            "Done (t=0.91s)\n",
            "creating index...\n",
            "index created!\n",
            "Obtaining caption lengths...\n"
          ]
        }
      ],
      "source": [
        "# Obtain the data loader (from file). Note that it runs much faster than before!\n",
        "data_loader = get_loader(transform=transform_train,\n",
        "                         mode='train',\n",
        "                         batch_size=batch_size,\n",
        "                         vocab_from_file=True)"
      ]
    },
    {
      "cell_type": "markdown",
      "metadata": {
        "id": "CH7o3nSv-vOz"
      },
      "source": [
        "<a id='step2'></a>\n",
        "## Step 2: Using the Data Loader to Obtain Batches\n",
        "\n",
        "The captions in the dataset vary greatly in length.  We can see this by examining `data_loader.dataset.caption_lengths`, a Python list with one entry for each training caption (where the value stores the length of the corresponding caption).  \n",
        "\n",
        "In the code cell below, we use this list to print the total number of captions in the training data with each length.  As we can see below, the majority of captions have length 10.  Likewise, very short and very long captions are quite rare.  "
      ]
    },
    {
      "cell_type": "code",
      "execution_count": null,
      "metadata": {
        "id": "0LcajRmg-vOz",
        "outputId": "4ce99769-da3a-4260-ed3e-0cfcc8532efa"
      },
      "outputs": [
        {
          "name": "stdout",
          "output_type": "stream",
          "text": [
            "value: 10 --- count: 86334\n",
            "value: 11 --- count: 79948\n",
            "value:  9 --- count: 71934\n",
            "value: 12 --- count: 57637\n",
            "value: 13 --- count: 37645\n",
            "value: 14 --- count: 22335\n",
            "value:  8 --- count: 20771\n",
            "value: 15 --- count: 12841\n",
            "value: 16 --- count:  7729\n",
            "value: 17 --- count:  4842\n",
            "value: 18 --- count:  3104\n",
            "value: 19 --- count:  2014\n",
            "value:  7 --- count:  1597\n",
            "value: 20 --- count:  1451\n",
            "value: 21 --- count:   999\n",
            "value: 22 --- count:   683\n",
            "value: 23 --- count:   534\n",
            "value: 24 --- count:   383\n",
            "value: 25 --- count:   277\n",
            "value: 26 --- count:   215\n",
            "value: 27 --- count:   159\n",
            "value: 28 --- count:   115\n",
            "value: 29 --- count:    86\n",
            "value: 30 --- count:    58\n",
            "value: 31 --- count:    49\n",
            "value: 32 --- count:    44\n",
            "value: 34 --- count:    39\n",
            "value: 37 --- count:    32\n",
            "value: 33 --- count:    31\n",
            "value: 35 --- count:    31\n",
            "value: 36 --- count:    26\n",
            "value: 38 --- count:    18\n",
            "value: 39 --- count:    18\n",
            "value: 43 --- count:    16\n",
            "value: 44 --- count:    16\n",
            "value: 48 --- count:    12\n",
            "value: 45 --- count:    11\n",
            "value: 42 --- count:    10\n",
            "value: 40 --- count:     9\n",
            "value: 49 --- count:     9\n",
            "value: 46 --- count:     9\n",
            "value: 47 --- count:     7\n",
            "value: 50 --- count:     6\n",
            "value: 51 --- count:     6\n",
            "value: 41 --- count:     6\n",
            "value: 52 --- count:     5\n",
            "value: 54 --- count:     3\n",
            "value: 56 --- count:     2\n",
            "value:  6 --- count:     2\n",
            "value: 53 --- count:     2\n",
            "value: 55 --- count:     2\n",
            "value: 57 --- count:     1\n"
          ]
        }
      ],
      "source": [
        "from collections import Counter\n",
        "\n",
        "# Tally the total number of training captions with each length.\n",
        "counter = Counter(data_loader.dataset.caption_lengths)\n",
        "lengths = sorted(counter.items(), key=lambda pair: pair[1], reverse=True)\n",
        "for value, count in lengths:\n",
        "    print('value: %2d --- count: %5d' % (value, count))"
      ]
    },
    {
      "cell_type": "markdown",
      "metadata": {
        "id": "cmlrvP5E-vO0"
      },
      "source": [
        "To generate batches of training data, we begin by first sampling a caption length (where the probability that any length is drawn is proportional to the number of captions with that length in the dataset).  Then, we retrieve a batch of size `batch_size` of image-caption pairs, where all captions have the sampled length. \n",
        "\n",
        " The `get_train_indices` method in the `CoCoDataset` class first samples a caption length, and then samples `batch_size` indices corresponding to training data points with captions of that length.  These indices are stored below in `indices`.\n",
        "\n",
        "These indices are supplied to the data loader, which then is used to retrieve the corresponding data points.  The pre-processed images and captions in the batch are stored in `images` and `captions`."
      ]
    },
    {
      "cell_type": "code",
      "execution_count": null,
      "metadata": {
        "scrolled": false,
        "id": "UcQeaglL-vO0",
        "outputId": "e73f497e-c15e-4f77-f933-41279fe1a86a"
      },
      "outputs": [
        {
          "name": "stdout",
          "output_type": "stream",
          "text": [
            "sampled indices: [281506, 98207, 186999, 253992, 51787, 408661, 326486, 156280, 283085, 380863]\n",
            "images.shape: torch.Size([10, 3, 224, 224])\n",
            "captions.shape: torch.Size([10, 13])\n"
          ]
        }
      ],
      "source": [
        "import numpy as np\n",
        "import torch.utils.data as data\n",
        "\n",
        "# Randomly sample a caption length, and sample indices with that length.\n",
        "indices = data_loader.dataset.get_train_indices()\n",
        "print('sampled indices:', indices)\n",
        "\n",
        "# Create and assign a batch sampler to retrieve a batch with the sampled indices.\n",
        "new_sampler = data.sampler.SubsetRandomSampler(indices=indices)\n",
        "data_loader.batch_sampler.sampler = new_sampler\n",
        "    \n",
        "# Obtain the batch.\n",
        "images, captions = next(iter(data_loader))\n",
        "    \n",
        "print('images.shape:', images.shape)\n",
        "print('captions.shape:', captions.shape)"
      ]
    },
    {
      "cell_type": "markdown",
      "metadata": {
        "id": "JZC5jDWZ-vO0"
      },
      "source": [
        "Each time we run the code cell above, a different caption length is sampled, and a different batch of training data is returned. \n",
        "\n",
        "\n",
        "\n",
        "\n"
      ]
    },
    {
      "cell_type": "markdown",
      "metadata": {
        "id": "ZnBxLsJp-vO0"
      },
      "source": [
        "<a id='step3'></a>\n",
        "## Step 3: Experimenting with the CNN Encoder\n",
        "\n"
      ]
    },
    {
      "cell_type": "code",
      "execution_count": null,
      "metadata": {
        "id": "PD3N9W3b-vO0"
      },
      "outputs": [],
      "source": [
        "% load_ext autoreload\n",
        "% autoreload 2\n",
        "\n",
        "# Import EncoderCNN and DecoderRNN. \n",
        "from model import EncoderCNN, DecoderRNN"
      ]
    },
    {
      "cell_type": "markdown",
      "metadata": {
        "id": "TJX7pGaG-vO0"
      },
      "source": [
        "In the next code cell we define a `device` that we will use move PyTorch tensors to GPU (if CUDA is available). "
      ]
    },
    {
      "cell_type": "code",
      "execution_count": null,
      "metadata": {
        "id": "I-teuCOa-vO0"
      },
      "outputs": [],
      "source": [
        "device = torch.device(\"cuda\" if torch.cuda.is_available() else \"cpu\")"
      ]
    },
    {
      "cell_type": "markdown",
      "metadata": {
        "id": "G_wnc1pT-vO0"
      },
      "source": [
        "The pre-processed images from the batch in **Step 2** of this notebook are then passed through the encoder, and the output is stored in `features`."
      ]
    },
    {
      "cell_type": "code",
      "execution_count": null,
      "metadata": {
        "id": "cfkoRaMs-vO1",
        "outputId": "0651059b-d50e-4f6a-97e1-e7d1bc30c855"
      },
      "outputs": [
        {
          "name": "stderr",
          "output_type": "stream",
          "text": [
            "Downloading: \"https://download.pytorch.org/models/resnet50-19c8e357.pth\" to /root/.torch/models/resnet50-19c8e357.pth\n",
            "100%|██████████| 102502400/102502400 [00:01<00:00, 81135378.04it/s]\n"
          ]
        },
        {
          "name": "stdout",
          "output_type": "stream",
          "text": [
            "type(features): <class 'torch.Tensor'>\n",
            "features.shape: torch.Size([10, 256])\n"
          ]
        }
      ],
      "source": [
        "# Specify the dimensionality of the image embedding.\n",
        "embed_size = 256\n",
        "\n",
        "\n",
        "# Initialize the encoder. (Optional: Add additional arguments if necessary.)\n",
        "encoder = EncoderCNN(embed_size)\n",
        "\n",
        "# Move the encoder to GPU if CUDA is available.\n",
        "encoder.to(device)\n",
        "    \n",
        "# Move last batch of images (from Step 2) to GPU if CUDA is available.   \n",
        "images = images.to(device)\n",
        "\n",
        "# Pass the images through the encoder.\n",
        "features = encoder(images)\n",
        "\n",
        "print('type(features):', type(features))\n",
        "print('features.shape:', features.shape)"
      ]
    },
    {
      "cell_type": "markdown",
      "metadata": {
        "id": "E5x_Y-Cx-vO1"
      },
      "source": [
        "The encoder that we use the pre-trained **ResNet-50** architecture (with the final fully-connected layer removed) to extract features from a batch of pre-processed images.  The output is then flattened to a vector, before being passed through a `Linear` layer to transform the feature vector to have the same size as the word embedding."
      ]
    },
    {
      "cell_type": "markdown",
      "metadata": {
        "id": "h1HI0_bH-vO1"
      },
      "source": [
        "<a id='step4'></a>\n",
        "## Step 4: Implementing the RNN Decoder\n",
        "\n",
        "\n",
        "Our decoder will be an instance of the `DecoderRNN` class and must accept as input:\n",
        "- the PyTorch tensor `features` containing the embedded image features (outputted in Step 3, when the last batch of images from Step 2 was passed through `encoder`), along with\n",
        "- a PyTorch tensor corresponding to the last batch of captions (`captions`) from Step 2.\n",
        "\n",
        "\n",
        "\n"
      ]
    },
    {
      "cell_type": "code",
      "execution_count": null,
      "metadata": {
        "id": "KMvLQo9V-vO1",
        "outputId": "5ffde756-7547-4449-85ba-7aa8a6a98429"
      },
      "outputs": [
        {
          "name": "stdout",
          "output_type": "stream",
          "text": [
            "type(outputs): <class 'torch.Tensor'>\n",
            "outputs.shape: torch.Size([10, 13, 9955])\n"
          ]
        }
      ],
      "source": [
        "# Specify the number of features in the hidden state of the RNN decoder.\n",
        "hidden_size = 512\n",
        "\n",
        "\n",
        "# Store the size of the vocabulary.\n",
        "vocab_size = len(data_loader.dataset.vocab)\n",
        "\n",
        "# Initialize the decoder.\n",
        "decoder = DecoderRNN(embed_size, hidden_size, vocab_size)\n",
        "\n",
        "# Move the decoder to GPU if CUDA is available.\n",
        "decoder.to(device)\n",
        "    \n",
        "# Move last batch of captions (from Step 1) to GPU if CUDA is available \n",
        "captions = captions.to(device)\n",
        "\n",
        "# Pass the encoder output and captions through the decoder.\n",
        "outputs = decoder(features, captions)\n",
        "\n",
        "print('type(outputs):', type(outputs))\n",
        "print('outputs.shape:', outputs.shape)"
      ]
    }
  ],
  "metadata": {
    "anaconda-cloud": {},
    "kernelspec": {
      "display_name": "Python 3",
      "language": "python",
      "name": "python3"
    },
    "language_info": {
      "codemirror_mode": {
        "name": "ipython",
        "version": 3
      },
      "file_extension": ".py",
      "mimetype": "text/x-python",
      "name": "python",
      "nbconvert_exporter": "python",
      "pygments_lexer": "ipython3",
      "version": "3.6.3"
    },
    "colab": {
      "provenance": []
    }
  },
  "nbformat": 4,
  "nbformat_minor": 0
}